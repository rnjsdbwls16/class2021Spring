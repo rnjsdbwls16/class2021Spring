{
  "nbformat": 4,
  "nbformat_minor": 0,
  "metadata": {
    "colab": {
      "name": "Untitled0.ipynb",
      "provenance": [],
      "authorship_tag": "ABX9TyO8kHcBROc6HfPbuHHd7MT3",
      "include_colab_link": true
    },
    "kernelspec": {
      "name": "python3",
      "display_name": "Python 3"
    }
  },
  "cells": [
    {
      "cell_type": "markdown",
      "metadata": {
        "id": "view-in-github",
        "colab_type": "text"
      },
      "source": [
        "<a href=\"https://colab.research.google.com/github/rnjsdbwls16/class2021Spring/blob/main/programming.ipynb\" target=\"_parent\"><img src=\"https://colab.research.google.com/assets/colab-badge.svg\" alt=\"Open In Colab\"/></a>"
      ]
    },
    {
      "cell_type": "markdown",
      "metadata": {
        "id": "-kOeIbkpowna"
      },
      "source": [
        "**3/10 수**\r\n",
        "\r\n",
        "인간 언어: 사과 = 🍎\r\n",
        "          (단어)  (내용) + 문법\r\n",
        "반면 컴퓨터 단어는\r\n",
        "a                      =  1\r\n",
        "(변수, 바뀔 수 있음)      (같다는 게 아니라 assign 해 줌)\r\n",
        "\r\n",
        "컴퓨터 언어에서 문법=제어문\r\n",
        "1) 반복: for\r\n",
        "2) 조건: if\r\n",
        "함수: 입출력 관계 y=f(x)\r\n",
        "일종의 모듈- 계속 쓰니까 ... 쿠키틀처럼\r\n"
      ]
    }
  ]
}