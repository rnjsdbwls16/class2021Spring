{
  "nbformat": 4,
  "nbformat_minor": 0,
  "metadata": {
    "colab": {
      "name": "string.ipynb",
      "provenance": [],
      "authorship_tag": "ABX9TyMy8P1wXc9hXD3znDjtIStY",
      "include_colab_link": true
    },
    "kernelspec": {
      "name": "python3",
      "display_name": "Python 3"
    }
  },
  "cells": [
    {
      "cell_type": "markdown",
      "metadata": {
        "id": "view-in-github",
        "colab_type": "text"
      },
      "source": [
        "<a href=\"https://colab.research.google.com/github/rnjsdbwls16/class2021Spring/blob/main/string.ipynb\" target=\"_parent\"><img src=\"https://colab.research.google.com/assets/colab-badge.svg\" alt=\"Open In Colab\"/></a>"
      ]
    },
    {
      "cell_type": "code",
      "metadata": {
        "colab": {
          "base_uri": "https://localhost:8080/"
        },
        "id": "5ehxWkyZ1VDt",
        "outputId": "6539d917-1903-42c5-b18b-1edc74efbd71"
      },
      "source": [
        "s = 'sicheng'\r\n",
        "print(s[0], s[5], s[-1], s[-6])\r\n",
        "print(s[1:3], s[1:], s[:3], s[:])"
      ],
      "execution_count": 1,
      "outputs": [
        {
          "output_type": "stream",
          "text": [
            "s n g i\n",
            "ic icheng sic sicheng\n"
          ],
          "name": "stdout"
        }
      ]
    },
    {
      "cell_type": "markdown",
      "metadata": {
        "id": "S0movKXC1Qqr"
      },
      "source": [
        "string ' ', \" \" 으로 지정\r\n",
        "\r\n",
        "-1번째: 오른쪽 끝 (평소 순서의 반대 방향으로 셈)\r\n",
        "\r\n",
        "[1:3] 1번째에서 3번째 사이를 출력 (여기서 0이 첫번째라는 걸 기억.. 보기 쉽게 씀 헷갈리지 말자)\r\n",
        "\r\n",
        "[1:] 1번째에서 끝까지\r\n",
        "[:3] 3번째 전까지지"
      ]
    },
    {
      "cell_type": "code",
      "metadata": {
        "colab": {
          "base_uri": "https://localhost:8080/"
        },
        "id": "3N6_iYpK1jty",
        "outputId": "0bc593cd-832b-41c2-ceee-7f9250094b40"
      },
      "source": [
        "n = [100, 200, 300]\r\n",
        "print(n[0], n[2], n[-1], n[-3])\r\n",
        "print(n[1:2], n[1:], n[:2], n[:])"
      ],
      "execution_count": null,
      "outputs": [
        {
          "output_type": "stream",
          "text": [
            "100 300 300 100\n",
            "[200] [200, 300] [100, 200] [100, 200, 300]\n"
          ],
          "name": "stdout"
        }
      ]
    },
    {
      "cell_type": "markdown",
      "metadata": {
        "id": "YqDZO92R2KV6"
      },
      "source": [
        "n[-3]은 n[0]과 같은 100이겠죠"
      ]
    },
    {
      "cell_type": "code",
      "metadata": {
        "colab": {
          "base_uri": "https://localhost:8080/"
        },
        "id": "752-HXXf1lo7",
        "outputId": "329cc22f-521d-4ce7-8893-491a874dbb35"
      },
      "source": [
        "len(s)"
      ],
      "execution_count": 3,
      "outputs": [
        {
          "output_type": "execute_result",
          "data": {
            "text/plain": [
              "7"
            ]
          },
          "metadata": {
            "tags": []
          },
          "execution_count": 3
        }
      ]
    },
    {
      "cell_type": "markdown",
      "metadata": {
        "id": "bhDwTDgX2WS7"
      },
      "source": [
        "길이를 의미. 리스트형과 문자형-개수 둘 다 적용됨"
      ]
    },
    {
      "cell_type": "code",
      "metadata": {
        "colab": {
          "base_uri": "https://localhost:8080/",
          "height": 35
        },
        "id": "hl_Kq5HC1nVz",
        "outputId": "ae8d60eb-51e4-417b-c0ea-3f2fa9f28568"
      },
      "source": [
        "s[1]+s[3]+s[4:]*10"
      ],
      "execution_count": 2,
      "outputs": [
        {
          "output_type": "execute_result",
          "data": {
            "application/vnd.google.colaboratory.intrinsic+json": {
              "type": "string"
            },
            "text/plain": [
              "'ihengengengengengengengengengeng'"
            ]
          },
          "metadata": {
            "tags": []
          },
          "execution_count": 2
        }
      ]
    },
    {
      "cell_type": "markdown",
      "metadata": {
        "id": "L4bD936r2mIB"
      },
      "source": [
        "곱하기 * 부터 해줘야"
      ]
    },
    {
      "cell_type": "code",
      "metadata": {
        "colab": {
          "base_uri": "https://localhost:8080/",
          "height": 35
        },
        "id": "uuJSdmne1o_j",
        "outputId": "1c416406-bc3d-4d0e-f66f-15dc0cb103a6"
      },
      "source": [
        "s.upper()"
      ],
      "execution_count": 4,
      "outputs": [
        {
          "output_type": "execute_result",
          "data": {
            "application/vnd.google.colaboratory.intrinsic+json": {
              "type": "string"
            },
            "text/plain": [
              "'SICHENG'"
            ]
          },
          "metadata": {
            "tags": []
          },
          "execution_count": 4
        }
      ]
    },
    {
      "cell_type": "markdown",
      "metadata": {
        "id": "SRHZiLMg2rJp"
      },
      "source": [
        "대문자로 만들기 (uppercase)"
      ]
    },
    {
      "cell_type": "code",
      "metadata": {
        "colab": {
          "base_uri": "https://localhost:8080/",
          "height": 35
        },
        "id": "iSRdnDlD1qpz",
        "outputId": "d6641d7c-3f32-4557-d70e-5e128cb3ca07"
      },
      "source": [
        "s = ' this is a house built this year. I like it.'\r\n",
        "s"
      ],
      "execution_count": 9,
      "outputs": [
        {
          "output_type": "execute_result",
          "data": {
            "application/vnd.google.colaboratory.intrinsic+json": {
              "type": "string"
            },
            "text/plain": [
              "' this is a house built this year. I like it.'"
            ]
          },
          "metadata": {
            "tags": []
          },
          "execution_count": 9
        }
      ]
    },
    {
      "cell_type": "code",
      "metadata": {
        "colab": {
          "base_uri": "https://localhost:8080/"
        },
        "id": "FSnt3zf41tgN",
        "outputId": "082a49c7-edc7-4253-f16c-c1c8383e5f3b"
      },
      "source": [
        "result = s.find('house') \t    # index of first instance of string t inside s (-1 if not found)\r\n",
        "result"
      ],
      "execution_count": null,
      "outputs": [
        {
          "output_type": "execute_result",
          "data": {
            "text/plain": [
              "11"
            ]
          },
          "metadata": {
            "tags": []
          },
          "execution_count": 7
        }
      ]
    },
    {
      "cell_type": "markdown",
      "metadata": {
        "id": "gjbZJJIL3pRd"
      },
      "source": [
        "앞에서부터 11번째에 위치 (스페이스도 0으로 포함)"
      ]
    },
    {
      "cell_type": "code",
      "metadata": {
        "colab": {
          "base_uri": "https://localhost:8080/"
        },
        "id": "XyaVfb2Z1wvU",
        "outputId": "5573bb46-8bca-4341-c9fc-c0a12af75d30"
      },
      "source": [
        "result = s.find('this')\t    # index of last instance of string t inside s (-1 if not found)\r\n",
        "result"
      ],
      "execution_count": null,
      "outputs": [
        {
          "output_type": "execute_result",
          "data": {
            "text/plain": [
              "1"
            ]
          },
          "metadata": {
            "tags": []
          },
          "execution_count": 8
        }
      ]
    },
    {
      "cell_type": "code",
      "metadata": {
        "colab": {
          "base_uri": "https://localhost:8080/"
        },
        "id": "YI2bo9hY1yx8",
        "outputId": "06bd742a-f9a6-4ade-f9a0-9753b5a88bc2"
      },
      "source": [
        "result = s.rindex('this')        # like s.find(t) except it raises ValueError if not found\r\n",
        "result"
      ],
      "execution_count": 12,
      "outputs": [
        {
          "output_type": "execute_result",
          "data": {
            "text/plain": [
              "22"
            ]
          },
          "metadata": {
            "tags": []
          },
          "execution_count": 12
        }
      ]
    },
    {
      "cell_type": "markdown",
      "metadata": {
        "id": "sZ1Gvt3Z30Lh"
      },
      "source": [
        "rindex: 거꾸로했을 때때"
      ]
    },
    {
      "cell_type": "code",
      "metadata": {
        "colab": {
          "base_uri": "https://localhost:8080/",
          "height": 35
        },
        "id": "w5ESUZZ110d2",
        "outputId": "5110c4cc-d262-4502-f588-9307f91c5681"
      },
      "source": [
        "s = s.strip()      \t            # a copy of s without leading or trailing whitespace\r\n",
        "s"
      ],
      "execution_count": 11,
      "outputs": [
        {
          "output_type": "execute_result",
          "data": {
            "application/vnd.google.colaboratory.intrinsic+json": {
              "type": "string"
            },
            "text/plain": [
              "'this is a house built this year. I like it.'"
            ]
          },
          "metadata": {
            "tags": []
          },
          "execution_count": 11
        }
      ]
    },
    {
      "cell_type": "markdown",
      "metadata": {
        "id": "9LZD1epP36k4"
      },
      "source": [
        "strip: 스페이스나 줄바꿈 등 쓸데없는 거(?) 없애 줌"
      ]
    },
    {
      "cell_type": "code",
      "metadata": {
        "colab": {
          "base_uri": "https://localhost:8080/"
        },
        "id": "vmmBeblJ12Xg",
        "outputId": "ac718b60-6623-403c-8826-1a3428153070"
      },
      "source": [
        "tokens = s.split(' ')\t        # split s into a list wherever a t is found (whitespace by default)\r\n",
        "tokens"
      ],
      "execution_count": 10,
      "outputs": [
        {
          "output_type": "execute_result",
          "data": {
            "text/plain": [
              "['', 'this', 'is', 'a', 'house', 'built', 'this', 'year.', 'I', 'like', 'it.']"
            ]
          },
          "metadata": {
            "tags": []
          },
          "execution_count": 10
        }
      ]
    },
    {
      "cell_type": "markdown",
      "metadata": {
        "id": "R6mMSMvG3_Qt"
      },
      "source": [
        "split: 빈칸 부분을 찾아서 쪼개세요. \r\n",
        "\r\n",
        "+tokens 그리고 리스트를 만드세요"
      ]
    },
    {
      "cell_type": "code",
      "metadata": {
        "colab": {
          "base_uri": "https://localhost:8080/",
          "height": 35
        },
        "id": "vpOVV2Jg14VN",
        "outputId": "96858acd-6bf8-4416-b8e4-2727c269cbea"
      },
      "source": [
        "s = ' '.join(tokens)\t        # combine the words of the text into a string using s as the glue\r\n",
        "s"
      ],
      "execution_count": 13,
      "outputs": [
        {
          "output_type": "execute_result",
          "data": {
            "application/vnd.google.colaboratory.intrinsic+json": {
              "type": "string"
            },
            "text/plain": [
              "' this is a house built this year. I like it.'"
            ]
          },
          "metadata": {
            "tags": []
          },
          "execution_count": 13
        }
      ]
    },
    {
      "cell_type": "code",
      "metadata": {
        "colab": {
          "base_uri": "https://localhost:8080/",
          "height": 35
        },
        "id": "aOQ96lo016w-",
        "outputId": "1ce0d4c5-e681-4c33-95f5-612d775d1912"
      },
      "source": [
        "s = s.replace('this', 'that')   # replace instances of t with u inside s\r\n",
        "s"
      ],
      "execution_count": 14,
      "outputs": [
        {
          "output_type": "execute_result",
          "data": {
            "application/vnd.google.colaboratory.intrinsic+json": {
              "type": "string"
            },
            "text/plain": [
              "' that is a house built that year. I like it.'"
            ]
          },
          "metadata": {
            "tags": []
          },
          "execution_count": 14
        }
      ]
    },
    {
      "cell_type": "markdown",
      "metadata": {
        "id": "z7RyFPi44Va6"
      },
      "source": [
        "참고) 문자열을 print 하면 따옴표 없이 출력됨\r\n",
        "\r\n",
        "＼n 줄바꾸기기고) 문자열을 print 하면 따옴표 없이 출력됨\r\n",
        "\r\n",
        "고) 문자열을 print 하면 따옴표 없이 출력됨\r\n",
        "\r\n",
        "＼n 줄바꾸기"
      ]
    }
  ]
}