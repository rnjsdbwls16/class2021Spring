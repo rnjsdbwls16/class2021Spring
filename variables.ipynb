{
  "nbformat": 4,
  "nbformat_minor": 0,
  "metadata": {
    "colab": {
      "name": "variables.ipynb",
      "provenance": [],
      "collapsed_sections": [],
      "authorship_tag": "ABX9TyOLuOjXbk8Snn7PlM5wj/QL",
      "include_colab_link": true
    },
    "kernelspec": {
      "name": "python3",
      "display_name": "Python 3"
    }
  },
  "cells": [
    {
      "cell_type": "markdown",
      "metadata": {
        "id": "view-in-github",
        "colab_type": "text"
      },
      "source": [
        "<a href=\"https://colab.research.google.com/github/rnjsdbwls16/class2021Spring/blob/main/variables.ipynb\" target=\"_parent\"><img src=\"https://colab.research.google.com/assets/colab-badge.svg\" alt=\"Open In Colab\"/></a>"
      ]
    },
    {
      "cell_type": "code",
      "metadata": {
        "colab": {
          "base_uri": "https://localhost:8080/"
        },
        "id": "j92lCUiu2J6p",
        "outputId": "78fa50ce-2385-45e5-ec19-79ec3c532979"
      },
      "source": [
        "a = 1; print(type(a))"
      ],
      "execution_count": null,
      "outputs": [
        {
          "output_type": "stream",
          "text": [
            "<class 'int'>\n"
          ],
          "name": "stdout"
        }
      ]
    },
    {
      "cell_type": "markdown",
      "metadata": {
        "id": "V9ro6_FuvlI9"
      },
      "source": [
        "type=종류 \r\n",
        "\r\n",
        "ex) 문자열이면 string이라 출력 <class 'str'>"
      ]
    },
    {
      "cell_type": "code",
      "metadata": {
        "colab": {
          "base_uri": "https://localhost:8080/"
        },
        "id": "sp5GsG0N2Pss",
        "outputId": "d19f0d54-59b4-43cb-f83b-5c349c6f4cb9"
      },
      "source": [
        "a = 1; a = float(a); print(type(a))"
      ],
      "execution_count": null,
      "outputs": [
        {
          "output_type": "stream",
          "text": [
            "<class 'float'>\n"
          ],
          "name": "stdout"
        }
      ]
    },
    {
      "cell_type": "code",
      "metadata": {
        "colab": {
          "base_uri": "https://localhost:8080/"
        },
        "id": "i0TdLvkJ2R_T",
        "outputId": "a98bfb6c-23d8-415a-cdcc-929568c74318"
      },
      "source": [
        "a = 1.2; a = int(a); print(type(a))"
      ],
      "execution_count": null,
      "outputs": [
        {
          "output_type": "stream",
          "text": [
            "<class 'int'>\n"
          ],
          "name": "stdout"
        }
      ]
    },
    {
      "cell_type": "code",
      "metadata": {
        "colab": {
          "base_uri": "https://localhost:8080/"
        },
        "id": "HFtfctmT2Uuz",
        "outputId": "42ffcd05-46b2-456e-8344-bf1ed06aaac2"
      },
      "source": [
        "a = '123'; print(type(a)); print(a[2])"
      ],
      "execution_count": 1,
      "outputs": [
        {
          "output_type": "stream",
          "text": [
            "<class 'str'>\n",
            "3\n"
          ],
          "name": "stdout"
        }
      ]
    },
    {
      "cell_type": "markdown",
      "metadata": {
        "id": "Kfs6EYATv5d2"
      },
      "source": [
        "a[0] = 순서의 첫번째 값 (첫번째는 0부터 시작)"
      ]
    },
    {
      "cell_type": "code",
      "metadata": {
        "colab": {
          "base_uri": "https://localhost:8080/"
        },
        "id": "qXWVyu2g2Z9o",
        "outputId": "69ef4669-fd11-414b-bd65-5187996f5740"
      },
      "source": [
        "a = '123'; a = list(a); print(type(a)); print(a); print(a[0])"
      ],
      "execution_count": 2,
      "outputs": [
        {
          "output_type": "stream",
          "text": [
            "<class 'list'>\n",
            "['1', '2', '3']\n",
            "1\n"
          ],
          "name": "stdout"
        }
      ]
    },
    {
      "cell_type": "markdown",
      "metadata": {
        "id": "n90PYhdhwhak"
      },
      "source": [
        "list(a) = 리스트 자료형의 형태로 바꿔라.\r\n",
        "\r\n",
        "하나하나 쪼개서 ['1', '2', '3']"
      ]
    },
    {
      "cell_type": "code",
      "metadata": {
        "colab": {
          "base_uri": "https://localhost:8080/"
        },
        "id": "iLO8DfpF2bhj",
        "outputId": "fb94b13c-2edb-45bc-aa87-973b2aabed13"
      },
      "source": [
        "a = [3,'winwin', [1, '2']]; print(type(a)); print(a[0]); print(a[1]); print(a[2])"
      ],
      "execution_count": 3,
      "outputs": [
        {
          "output_type": "stream",
          "text": [
            "<class 'list'>\n",
            "3\n",
            "winwin\n",
            "[1, '2']\n"
          ],
          "name": "stdout"
        }
      ]
    },
    {
      "cell_type": "code",
      "metadata": {
        "colab": {
          "base_uri": "https://localhost:8080/"
        },
        "id": "6Jh1ijyI2edz",
        "outputId": "ea6fc6b1-8975-4e80-a776-98b33efab512"
      },
      "source": [
        "a = (1,'2', [3, '4']); print(type(a)); print(a[0]); print(a[1]); print(a[2])"
      ],
      "execution_count": null,
      "outputs": [
        {
          "output_type": "stream",
          "text": [
            "<class 'tuple'>\n",
            "1\n",
            "2\n",
            "[3, '4']\n"
          ],
          "name": "stdout"
        }
      ]
    },
    {
      "cell_type": "markdown",
      "metadata": {
        "id": "qNrk4i5ny3Di"
      },
      "source": [
        "tuple ()괄호로 바꾸면 에러 뜸"
      ]
    },
    {
      "cell_type": "code",
      "metadata": {
        "colab": {
          "base_uri": "https://localhost:8080/"
        },
        "id": "mF9bHPUX2g9M",
        "outputId": "aec7a919-8502-4631-b45a-7a709b2a4e5e"
      },
      "source": [
        "a =\t{\"nct\": \"nctzen\", \"127\": \"10\", \"dream\": 7}\r\n",
        "print(type(a))\r\n",
        "print(a[\"127\"])"
      ],
      "execution_count": 4,
      "outputs": [
        {
          "output_type": "stream",
          "text": [
            "<class 'dict'>\n",
            "10\n"
          ],
          "name": "stdout"
        }
      ]
    },
    {
      "cell_type": "markdown",
      "metadata": {
        "id": "daJWnt2ozZNo"
      },
      "source": [
        "딕셔너리는 {}, \" \" -> ' '로 바꿔도 상관없는 듯? 딕셔너리에는 순서가 없는 듯ㅇㅇ a[0]하면 에러남"
      ]
    },
    {
      "cell_type": "code",
      "metadata": {
        "colab": {
          "base_uri": "https://localhost:8080/"
        },
        "id": "azl2rsO92jPo",
        "outputId": "d8e54fd6-48d8-4bb1-9862-89f80db099e7"
      },
      "source": [
        "a=[\"u\", \"wayV\"]\r\n",
        "print(type(a))\r\n",
        "a"
      ],
      "execution_count": 6,
      "outputs": [
        {
          "output_type": "stream",
          "text": [
            "<class 'list'>\n"
          ],
          "name": "stdout"
        },
        {
          "output_type": "execute_result",
          "data": {
            "text/plain": [
              "['u', 'wayV']"
            ]
          },
          "metadata": {
            "tags": []
          },
          "execution_count": 6
        }
      ]
    },
    {
      "cell_type": "markdown",
      "metadata": {
        "id": "nMXdGO4nz5ZQ"
      },
      "source": [
        "추가로 만약 a = [1,2,3]\r\n",
        "\r\n",
        "a[0]=-1 새로 assign 지정해라\r\n",
        "\r\n",
        "print a 하면 [-1,2,3]\r\n",
        "\r\n",
        "*지정은 순서대로로가로 만약 a = [1,2,3]\r\n",
        "\r\n",
        "a[0]=-1 새로 assign 지정해라\r\n",
        "\r\n",
        "print a 하면 [-1,2,3]\r\n",
        "\r\n",
        "가로 만약 a = [1,2,3]\r\n",
        "\r\n",
        "a[0]=-1 새로 assign 지정해라\r\n",
        "\r\n",
        "print a 하면 [-1,2,3]\r\n",
        "\r\n",
        "*지정은 순서대로"
      ]
    },
    {
      "cell_type": "code",
      "metadata": {
        "colab": {
          "base_uri": "https://localhost:8080/"
        },
        "id": "DKmd3kMN0DaM",
        "outputId": "eca226e9-617b-4bbe-8994-c608ea9a3ed6"
      },
      "source": [
        "a=[1,2,7]\r\n",
        "a[0]=3\r\n",
        "a[0]=5\r\n",
        "print (a)"
      ],
      "execution_count": 8,
      "outputs": [
        {
          "output_type": "stream",
          "text": [
            "[5, 2, 7]\n"
          ],
          "name": "stdout"
        }
      ]
    }
  ]
}