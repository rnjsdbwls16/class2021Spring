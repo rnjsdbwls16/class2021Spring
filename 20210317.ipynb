{
  "nbformat": 4,
  "nbformat_minor": 0,
  "metadata": {
    "colab": {
      "name": "20210317.ipynb",
      "provenance": [],
      "authorship_tag": "ABX9TyOw4F4p/Y+1UmlOoC+0X7R6",
      "include_colab_link": true
    },
    "kernelspec": {
      "name": "python3",
      "display_name": "Python 3"
    }
  },
  "cells": [
    {
      "cell_type": "markdown",
      "metadata": {
        "id": "view-in-github",
        "colab_type": "text"
      },
      "source": [
        "<a href=\"https://colab.research.google.com/github/rnjsdbwls16/class2021Spring/blob/main/20210317.ipynb\" target=\"_parent\"><img src=\"https://colab.research.google.com/assets/colab-badge.svg\" alt=\"Open In Colab\"/></a>"
      ]
    },
    {
      "cell_type": "code",
      "metadata": {
        "colab": {
          "base_uri": "https://localhost:8080/"
        },
        "id": "CF2YYJe7uiJp",
        "outputId": "f2f01eea-398f-47d8-8a74-6b21db2f1271"
      },
      "source": [
        "a = [1,2,3,4]\r\n",
        "for i in a:\r\n",
        "  print (i)"
      ],
      "execution_count": null,
      "outputs": [
        {
          "output_type": "stream",
          "text": [
            "1\n",
            "2\n",
            "3\n",
            "4\n"
          ],
          "name": "stdout"
        }
      ]
    },
    {
      "cell_type": "code",
      "metadata": {
        "colab": {
          "base_uri": "https://localhost:8080/"
        },
        "id": "6oI48VrPv-lU",
        "outputId": "b2874af8-ab31-4872-b07a-57345fdb76de"
      },
      "source": [
        "a = [1, 2, 4, 5]\r\n",
        "b = [i for i in a if i>=3]\r\n",
        "b"
      ],
      "execution_count": null,
      "outputs": [
        {
          "output_type": "execute_result",
          "data": {
            "text/plain": [
              "[4, 5]"
            ]
          },
          "metadata": {
            "tags": []
          },
          "execution_count": 3
        }
      ]
    },
    {
      "cell_type": "code",
      "metadata": {
        "colab": {
          "base_uri": "https://localhost:8080/"
        },
        "id": "TA_uQan9wKdP",
        "outputId": "9d8422bf-cd90-4d05-dfbb-a6af708f023d"
      },
      "source": [
        "a = ['haein', 'yujin', 'cafe', 'tea']\r\n",
        "b = [i for i in a if len(i) > 4]\r\n",
        "b"
      ],
      "execution_count": null,
      "outputs": [
        {
          "output_type": "execute_result",
          "data": {
            "text/plain": [
              "['haein', 'yujin']"
            ]
          },
          "metadata": {
            "tags": []
          },
          "execution_count": 5
        }
      ]
    },
    {
      "cell_type": "markdown",
      "metadata": {
        "id": "g4ADPGmyxW2P"
      },
      "source": [
        "len = 4 하면 지정이니까 x\r\n",
        "len == 4 해야 글자수 4개\r\n",
        "헷갈리지 말기기"
      ]
    }
  ]
}