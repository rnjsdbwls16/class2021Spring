{
  "nbformat": 4,
  "nbformat_minor": 0,
  "metadata": {
    "colab": {
      "name": "Untitled0.ipynb",
      "provenance": [],
      "authorship_tag": "ABX9TyPsi86tKQfY0vErhmYDvofc",
      "include_colab_link": true
    },
    "kernelspec": {
      "name": "python3",
      "display_name": "Python 3"
    },
    "language_info": {
      "name": "python"
    }
  },
  "cells": [
    {
      "cell_type": "markdown",
      "metadata": {
        "id": "view-in-github",
        "colab_type": "text"
      },
      "source": [
        "<a href=\"https://colab.research.google.com/github/rnjsdbwls16/class2021Spring/blob/main/20210331.ipynb\" target=\"_parent\"><img src=\"https://colab.research.google.com/assets/colab-badge.svg\" alt=\"Open In Colab\"/></a>"
      ]
    },
    {
      "cell_type": "markdown",
      "metadata": {
        "id": "KsHM2pe96z1C"
      },
      "source": [
        "아 \n",
        "\n",
        "pitch: 212.3hz, intensity: 69.19db, formant: 989.6hz/1723hz, duration: 0.596074s\n",
        "\n",
        "\n",
        "에 \n",
        "\n",
        "pitch: 214.2hz, intensity: 67.23db, formant: 511.1hz/2329hz, duration: 0.728535s"
      ]
    }
  ]
}